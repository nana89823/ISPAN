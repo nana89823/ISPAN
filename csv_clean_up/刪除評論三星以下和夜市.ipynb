{
 "cells": [
  {
   "cell_type": "code",
   "execution_count": 1,
   "id": "7c187f1c",
   "metadata": {},
   "outputs": [],
   "source": [
    "import pandas as pd"
   ]
  },
  {
   "cell_type": "code",
   "execution_count": 13,
   "id": "3657dfb1",
   "metadata": {},
   "outputs": [
    {
     "data": {
      "text/plain": [
       "Index(['index', 'google_url', 'place_name', 'total_rating', 'place_category',\n",
       "       'total_reviews', 'cost', 'address', 'district', 'eat_in', 'to_go_1',\n",
       "       'to_go_2', 'delivery', 'opening_hours', 'website', 'phone', 'close',\n",
       "       'place_acquisition_date', 'file_name_1', 'new_district', 'new_rating',\n",
       "       'new_review', 'monday', 'tuesday', 'wednesday', 'thursday', 'friday',\n",
       "       'saturday', 'sunday', 'new_place_category', 'latitude', 'longitude',\n",
       "       'district_num', 'model_rating', 'url'],\n",
       "      dtype='object')"
      ]
     },
     "execution_count": 13,
     "metadata": {},
     "output_type": "execute_result"
    }
   ],
   "source": [
    "df = pd.read_csv(\"place_info_final_0103_url.csv\")\n",
    "df.columns"
   ]
  },
  {
   "cell_type": "code",
   "execution_count": 14,
   "id": "a96a5590",
   "metadata": {},
   "outputs": [
    {
     "data": {
      "text/plain": [
       "0        3.3\n",
       "1        3.7\n",
       "2        3.4\n",
       "3        3.1\n",
       "4        4.3\n",
       "        ... \n",
       "16189    4.3\n",
       "16190    4.0\n",
       "16191    3.4\n",
       "16192    1.9\n",
       "16193    4.4\n",
       "Name: model_rating, Length: 16194, dtype: float64"
      ]
     },
     "execution_count": 14,
     "metadata": {},
     "output_type": "execute_result"
    }
   ],
   "source": [
    "df.loc[:,\"model_rating\"]"
   ]
  },
  {
   "cell_type": "code",
   "execution_count": 19,
   "id": "e2827070",
   "metadata": {},
   "outputs": [],
   "source": [
    "df = df[df.loc[:,\"model_rating\"]>=3]"
   ]
  },
  {
   "cell_type": "code",
   "execution_count": 31,
   "id": "3dd7b1bc",
   "metadata": {},
   "outputs": [],
   "source": [
    "df = df[~df[\"new_place_category\"].str.contains(\"夜市\")]"
   ]
  },
  {
   "cell_type": "code",
   "execution_count": 33,
   "id": "0ffa6be7",
   "metadata": {},
   "outputs": [
    {
     "data": {
      "text/html": [
       "<div>\n",
       "<style scoped>\n",
       "    .dataframe tbody tr th:only-of-type {\n",
       "        vertical-align: middle;\n",
       "    }\n",
       "\n",
       "    .dataframe tbody tr th {\n",
       "        vertical-align: top;\n",
       "    }\n",
       "\n",
       "    .dataframe thead th {\n",
       "        text-align: right;\n",
       "    }\n",
       "</style>\n",
       "<table border=\"1\" class=\"dataframe\">\n",
       "  <thead>\n",
       "    <tr style=\"text-align: right;\">\n",
       "      <th></th>\n",
       "      <th>index</th>\n",
       "      <th>google_url</th>\n",
       "      <th>place_name</th>\n",
       "      <th>total_rating</th>\n",
       "      <th>place_category</th>\n",
       "      <th>total_reviews</th>\n",
       "      <th>cost</th>\n",
       "      <th>address</th>\n",
       "      <th>district</th>\n",
       "      <th>eat_in</th>\n",
       "      <th>...</th>\n",
       "      <th>thursday</th>\n",
       "      <th>friday</th>\n",
       "      <th>saturday</th>\n",
       "      <th>sunday</th>\n",
       "      <th>new_place_category</th>\n",
       "      <th>latitude</th>\n",
       "      <th>longitude</th>\n",
       "      <th>district_num</th>\n",
       "      <th>model_rating</th>\n",
       "      <th>url</th>\n",
       "    </tr>\n",
       "  </thead>\n",
       "  <tbody>\n",
       "  </tbody>\n",
       "</table>\n",
       "<p>0 rows × 35 columns</p>\n",
       "</div>"
      ],
      "text/plain": [
       "Empty DataFrame\n",
       "Columns: [index, google_url, place_name, total_rating, place_category, total_reviews, cost, address, district, eat_in, to_go_1, to_go_2, delivery, opening_hours, website, phone, close, place_acquisition_date, file_name_1, new_district, new_rating, new_review, monday, tuesday, wednesday, thursday, friday, saturday, sunday, new_place_category, latitude, longitude, district_num, model_rating, url]\n",
       "Index: []\n",
       "\n",
       "[0 rows x 35 columns]"
      ]
     },
     "execution_count": 33,
     "metadata": {},
     "output_type": "execute_result"
    }
   ],
   "source": [
    "df[df.loc[:,\"new_place_category\"]==\"夜市\"]"
   ]
  },
  {
   "cell_type": "code",
   "execution_count": 35,
   "id": "45c0788e",
   "metadata": {},
   "outputs": [
    {
     "data": {
      "text/html": [
       "<div>\n",
       "<style scoped>\n",
       "    .dataframe tbody tr th:only-of-type {\n",
       "        vertical-align: middle;\n",
       "    }\n",
       "\n",
       "    .dataframe tbody tr th {\n",
       "        vertical-align: top;\n",
       "    }\n",
       "\n",
       "    .dataframe thead th {\n",
       "        text-align: right;\n",
       "    }\n",
       "</style>\n",
       "<table border=\"1\" class=\"dataframe\">\n",
       "  <thead>\n",
       "    <tr style=\"text-align: right;\">\n",
       "      <th></th>\n",
       "      <th>index</th>\n",
       "      <th>google_url</th>\n",
       "      <th>place_name</th>\n",
       "      <th>total_rating</th>\n",
       "      <th>place_category</th>\n",
       "      <th>total_reviews</th>\n",
       "      <th>cost</th>\n",
       "      <th>address</th>\n",
       "      <th>district</th>\n",
       "      <th>eat_in</th>\n",
       "      <th>...</th>\n",
       "      <th>thursday</th>\n",
       "      <th>friday</th>\n",
       "      <th>saturday</th>\n",
       "      <th>sunday</th>\n",
       "      <th>new_place_category</th>\n",
       "      <th>latitude</th>\n",
       "      <th>longitude</th>\n",
       "      <th>district_num</th>\n",
       "      <th>model_rating</th>\n",
       "      <th>url</th>\n",
       "    </tr>\n",
       "  </thead>\n",
       "  <tbody>\n",
       "  </tbody>\n",
       "</table>\n",
       "<p>0 rows × 35 columns</p>\n",
       "</div>"
      ],
      "text/plain": [
       "Empty DataFrame\n",
       "Columns: [index, google_url, place_name, total_rating, place_category, total_reviews, cost, address, district, eat_in, to_go_1, to_go_2, delivery, opening_hours, website, phone, close, place_acquisition_date, file_name_1, new_district, new_rating, new_review, monday, tuesday, wednesday, thursday, friday, saturday, sunday, new_place_category, latitude, longitude, district_num, model_rating, url]\n",
       "Index: []\n",
       "\n",
       "[0 rows x 35 columns]"
      ]
     },
     "execution_count": 35,
     "metadata": {},
     "output_type": "execute_result"
    }
   ],
   "source": [
    "df[df.loc[:,\"model_rating\"]<3]"
   ]
  },
  {
   "cell_type": "code",
   "execution_count": 38,
   "id": "e38fbbc2",
   "metadata": {},
   "outputs": [],
   "source": [
    "df = df.iloc[:,1:]"
   ]
  },
  {
   "cell_type": "code",
   "execution_count": 40,
   "id": "ee40f042",
   "metadata": {},
   "outputs": [],
   "source": [
    "df.to_csv(\"place_info_final_del_lessThan_3_nightmarket.csv\",index=None)"
   ]
  },
  {
   "cell_type": "code",
   "execution_count": null,
   "id": "6b4d8722",
   "metadata": {},
   "outputs": [],
   "source": []
  }
 ],
 "metadata": {
  "kernelspec": {
   "display_name": "Python 3 (ipykernel)",
   "language": "python",
   "name": "python3"
  },
  "language_info": {
   "codemirror_mode": {
    "name": "ipython",
    "version": 3
   },
   "file_extension": ".py",
   "mimetype": "text/x-python",
   "name": "python",
   "nbconvert_exporter": "python",
   "pygments_lexer": "ipython3",
   "version": "3.10.8"
  }
 },
 "nbformat": 4,
 "nbformat_minor": 5
}

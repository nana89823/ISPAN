{
 "cells": [
  {
   "cell_type": "code",
   "execution_count": 1,
   "id": "49b4d0de",
   "metadata": {},
   "outputs": [],
   "source": [
    "import pandas as pd"
   ]
  },
  {
   "cell_type": "markdown",
   "id": "f0eeacae",
   "metadata": {},
   "source": [
    "# 合併景點的原始url"
   ]
  },
  {
   "cell_type": "code",
   "execution_count": 3,
   "id": "d0cc8f9a",
   "metadata": {},
   "outputs": [
    {
     "name": "stdout",
     "output_type": "stream",
     "text": [
      "筆數各為:2588,4722\n",
      "合併後筆數:7310\n",
      "刪掉重複後的筆數:3289\n",
      "刪除錯誤格式後的筆數:3179\n"
     ]
    }
   ],
   "source": [
    "df_attraction  = pd.read_csv('Data/raw_data/attraction/place_info/raw_data_only_url/景點1.csv',header=None)\n",
    "df_attraction2 = pd.read_csv('Data/raw_data/attraction/place_info/raw_data_only_url/景點2.csv',header=None)\n",
    "\n",
    "attraction     = len(df_attraction)\n",
    "attraction2    = len(df_attraction2)\n",
    "print(f\"筆數各為:{attraction},{attraction2}\")\n",
    "\n",
    "all_attraction = pd.concat([df_attraction,df_attraction2])\n",
    "print(f'合併後筆數:{all_attraction.shape[0]}')\n",
    "\n",
    "all_attraction = all_attraction.drop_duplicates()\n",
    "print(f'刪掉重複後的筆數:{all_attraction.shape[0]}')\n",
    "\n",
    "finally_ = all_attraction[all_attraction[0].str.contains(\"https://www.google.com.tw/maps/place/\")]\n",
    "print(f'刪除錯誤格式後的筆數:{finally_.shape[0]}')\n",
    "\n",
    "finally_.to_csv('合併後的景點.csv',index =False)"
   ]
  }
 ],
 "metadata": {
  "kernelspec": {
   "display_name": "Python 3 (ipykernel)",
   "language": "python",
   "name": "python3"
  },
  "language_info": {
   "codemirror_mode": {
    "name": "ipython",
    "version": 3
   },
   "file_extension": ".py",
   "mimetype": "text/x-python",
   "name": "python",
   "nbconvert_exporter": "python",
   "pygments_lexer": "ipython3",
   "version": "3.9.13"
  }
 },
 "nbformat": 4,
 "nbformat_minor": 5
}

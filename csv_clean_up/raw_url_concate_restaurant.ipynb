{
 "cells": [
  {
   "cell_type": "code",
   "execution_count": 2,
   "id": "3ec763ff",
   "metadata": {},
   "outputs": [],
   "source": [
    "import pandas as pd\n",
    "import math"
   ]
  },
  {
   "cell_type": "markdown",
   "id": "d103ba84",
   "metadata": {},
   "source": [
    "# 12區原始url資料合併"
   ]
  },
  {
   "cell_type": "code",
   "execution_count": 3,
   "id": "8c718a37",
   "metadata": {},
   "outputs": [],
   "source": [
    "df_shilin     = pd.read_csv('Data/raw_data/restaurant/place_info/raw_data_only_url/士林區餐廳.csv',header=None)\n",
    "df_datong     = pd.read_csv('Data/raw_data/restaurant/place_info/raw_data_only_url/大同區餐廳.csv',header=None)\n",
    "df_daNa       = pd.read_csv('Data/raw_data/restaurant/place_info/raw_data_only_url/大安區餐廳.csv',header=None)\n",
    "df_zhongShan  = pd.read_csv('Data/raw_data/restaurant/place_info/raw_data_only_url/中山區餐廳.csv',header=None)\n",
    "df_zhongZheng = pd.read_csv('Data/raw_data/restaurant/place_info/raw_data_only_url/中正區餐廳.csv',header=None)\n",
    "df_neiHu      = pd.read_csv('Data/raw_data/restaurant/place_info/raw_data_only_url/內湖區餐廳.csv',header=None)\n",
    "df_wenShan    = pd.read_csv('Data/raw_data/restaurant/place_info/raw_data_only_url/文山區餐廳.csv',header=None)\n",
    "df_beiTou     = pd.read_csv('Data/raw_data/restaurant/place_info/raw_data_only_url/北投區餐廳.csv',header=None)\n",
    "df_songShan   = pd.read_csv('Data/raw_data/restaurant/place_info/raw_data_only_url/松山區餐廳.csv',header=None)\n",
    "df_xinYi      = pd.read_csv('Data/raw_data/restaurant/place_info/raw_data_only_url/信義區餐廳.csv',header=None)\n",
    "df_nanGang    = pd.read_csv('Data/raw_data/restaurant/place_info/raw_data_only_url/南港區餐廳.csv',header=None)\n",
    "df_wanHua     = pd.read_csv('Data/raw_data/restaurant/place_info/raw_data_only_url/萬華區餐廳.csv',header=None)"
   ]
  },
  {
   "cell_type": "code",
   "execution_count": 4,
   "id": "34d3e72a",
   "metadata": {},
   "outputs": [
    {
     "name": "stdout",
     "output_type": "stream",
     "text": [
      "士林區餐聽原始資料筆數:17088\n",
      "大同區餐聽原始資料筆數:10584\n",
      "大安區餐聽原始資料筆數:170121\n",
      "中山區餐聽原始資料筆數:219859\n",
      "中正區餐聽原始資料筆數:257300\n",
      "內湖區餐聽原始資料筆數:154517\n",
      "文山區餐聽原始資料筆數:222496\n",
      "北投區餐聽原始資料筆數:341924\n",
      "松山區餐聽原始資料筆數:132403\n",
      "信義區餐聽原始資料筆數:113258\n",
      "南港區餐聽原始資料筆數:131391\n",
      "萬華區餐聽原始資料筆數:120052\n",
      "--------------------------------------------------\n",
      "北市12個行政區餐廳原始資料共:1890993\n"
     ]
    }
   ],
   "source": [
    "shilin     = len(df_shilin)\n",
    "datong     = len(df_datong)\n",
    "daNa       = len(df_daNa)\n",
    "zhongShan  = df_zhongShan.shape[0]\n",
    "zhongZheng = df_zhongZheng.shape[0]\n",
    "neiHu      = df_neiHu.shape[0]\n",
    "wenShan    = df_wenShan.shape[0]\n",
    "beiTou     = df_beiTou.shape[0]\n",
    "songShan   = df_songShan.shape[0]\n",
    "xinYi      = df_xinYi.shape[0]\n",
    "nanGang    = df_nanGang.shape[0]\n",
    "wanHua     = df_wanHua.shape[0]\n",
    "\n",
    "print(f\"士林區餐聽原始資料筆數:{shilin}\")\n",
    "print(f\"大同區餐聽原始資料筆數:{datong}\")\n",
    "print(f\"大安區餐聽原始資料筆數:{daNa}\")\n",
    "print(f\"中山區餐聽原始資料筆數:{zhongShan}\")\n",
    "print(f\"中正區餐聽原始資料筆數:{zhongZheng}\")\n",
    "print(f\"內湖區餐聽原始資料筆數:{neiHu}\")\n",
    "print(f\"文山區餐聽原始資料筆數:{wenShan}\")\n",
    "print(f\"北投區餐聽原始資料筆數:{beiTou}\")\n",
    "print(f\"松山區餐聽原始資料筆數:{songShan}\")\n",
    "print(f\"信義區餐聽原始資料筆數:{xinYi}\")\n",
    "print(f\"南港區餐聽原始資料筆數:{nanGang}\")\n",
    "print(f\"萬華區餐聽原始資料筆數:{wanHua}\")\n",
    "print(\"-\"*50)\n",
    "print(f\"北市12個行政區餐廳原始資料共:{shilin+datong+daNa+zhongShan+zhongZheng+neiHu+wenShan+beiTou+songShan+xinYi+nanGang+wanHua}\")"
   ]
  },
  {
   "cell_type": "code",
   "execution_count": 6,
   "id": "43f60af3",
   "metadata": {},
   "outputs": [],
   "source": [
    "# 合併12區的dataFrame\n",
    "all_df = pd.concat([df_beiTou,df_daNa,df_datong,df_nanGang,df_neiHu,df_shilin,df_songShan,df_wanHua,df_wenShan,df_xinYi])\n",
    "two_df = pd.concat([df_zhongShan,df_zhongZheng])"
   ]
  },
  {
   "cell_type": "code",
   "execution_count": 10,
   "id": "338534ed",
   "metadata": {},
   "outputs": [
    {
     "name": "stdout",
     "output_type": "stream",
     "text": [
      "刪除重複後的筆數共:90606\n"
     ]
    }
   ],
   "source": [
    "# 刪除重複的url\n",
    "all_df = all_df.drop_duplicates()\n",
    "two_df = two_df.drop_duplicates()\n",
    "print(f'刪除重複後的筆數共:{all_df.shape[0]+two_df.shape[0]}')"
   ]
  },
  {
   "cell_type": "code",
   "execution_count": 12,
   "id": "44fda5cb",
   "metadata": {},
   "outputs": [
    {
     "name": "stdout",
     "output_type": "stream",
     "text": [
      "58453\n",
      "22001\n"
     ]
    }
   ],
   "source": [
    "# 刪除錯誤的url\n",
    "all_df = all_df[all_df[0].str.contains(\"https://www.google.com.tw/maps/place/\")]\n",
    "print(len(all_df))\n",
    "two_df = two_df[two_df[0].str.contains(\"https://www.google.com.tw/maps/place/\")]\n",
    "print(len(two_df))"
   ]
  },
  {
   "cell_type": "code",
   "execution_count": 14,
   "id": "28328f56",
   "metadata": {},
   "outputs": [
    {
     "data": {
      "text/plain": [
       "(80454, 1)"
      ]
     },
     "execution_count": 14,
     "metadata": {},
     "output_type": "execute_result"
    }
   ],
   "source": [
    "df_all =pd.concat([all_df,two_df])\n",
    "df_all.shape"
   ]
  },
  {
   "cell_type": "code",
   "execution_count": 15,
   "id": "b1f2ebc3",
   "metadata": {},
   "outputs": [],
   "source": [
    "# 分成6份分別給6個人一起跑place_info\n",
    "df_num = len(df_all)\n",
    "each = math.floor(df_num/6)\n",
    "for i in range(1,7):\n",
    "    file_name = f'drop_duplicates_url_{i}.csv'\n",
    "    if i <= 6:\n",
    "        df = df_all[each*(i-1):each*i]\n",
    "    df.to_csv(file_name , index = False)"
   ]
  }
 ],
 "metadata": {
  "kernelspec": {
   "display_name": "Python 3 (ipykernel)",
   "language": "python",
   "name": "python3"
  },
  "language_info": {
   "codemirror_mode": {
    "name": "ipython",
    "version": 3
   },
   "file_extension": ".py",
   "mimetype": "text/x-python",
   "name": "python",
   "nbconvert_exporter": "python",
   "pygments_lexer": "ipython3",
   "version": "3.9.13"
  }
 },
 "nbformat": 4,
 "nbformat_minor": 5
}

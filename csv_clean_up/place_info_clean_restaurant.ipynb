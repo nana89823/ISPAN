{
 "cells": [
  {
   "cell_type": "code",
   "execution_count": 1,
   "id": "987e306a",
   "metadata": {},
   "outputs": [],
   "source": [
    "import pandas as pd\n",
    "import re\n",
    "import numpy as np"
   ]
  },
  {
   "cell_type": "markdown",
   "id": "93c70298",
   "metadata": {},
   "source": [
    "# read csv"
   ]
  },
  {
   "cell_type": "code",
   "execution_count": 2,
   "id": "edea97a2",
   "metadata": {},
   "outputs": [
    {
     "name": "stdout",
     "output_type": "stream",
     "text": [
      "總共有25145筆,19個columns\n"
     ]
    }
   ],
   "source": [
    "df = pd.read_csv(\"Data/raw_data/restaurant/place_info_final_3.csv\")\n",
    "df = df.drop(\"Unnamed: 0\",axis=\"columns\")\n",
    "print(f'總共有{df.shape[0]}筆,{df.shape[1]}個columns')"
   ]
  },
  {
   "cell_type": "markdown",
   "id": "492aad22",
   "metadata": {},
   "source": [
    "# Add column ,name \"new_district\" "
   ]
  },
  {
   "cell_type": "code",
   "execution_count": 3,
   "id": "45dac981",
   "metadata": {},
   "outputs": [
    {
     "name": "stdout",
     "output_type": "stream",
     "text": [
      "總共有25145筆,20個columns\n"
     ]
    }
   ],
   "source": [
    "df[\"new_district\"] = df[\"district\"].str.split(\" \").str.get(3)\n",
    "# df[[\"district\",\"new_district\"]].head()\n",
    "print(f'總共有{df.shape[0]}筆,{df.shape[1]}個columns')"
   ]
  },
  {
   "cell_type": "markdown",
   "id": "236ab552",
   "metadata": {},
   "source": [
    "# Add column ,name \"new_rating\" ,define rating scope"
   ]
  },
  {
   "cell_type": "code",
   "execution_count": 4,
   "id": "d8acdd31",
   "metadata": {},
   "outputs": [],
   "source": [
    "df[\"new_rating\"] = df[\"total_rating\"].apply(lambda x : 1 if x<=1.5 else (2 if x<=2.5 else (3 if x<=3.5 else (4 if x<=4.5 else 5))))"
   ]
  },
  {
   "cell_type": "code",
   "execution_count": 5,
   "id": "5554fc58",
   "metadata": {},
   "outputs": [
    {
     "name": "stdout",
     "output_type": "stream",
     "text": [
      "總共有25145筆,21個columns\n"
     ]
    }
   ],
   "source": [
    "# df[[\"total_rating\",\"new_rating\"]].head()\n",
    "print(f'總共有{df.shape[0]}筆,{df.shape[1]}個columns')"
   ]
  },
  {
   "cell_type": "markdown",
   "id": "aacffdc6",
   "metadata": {},
   "source": [
    "# Add column , name \"new_review\", define review scope"
   ]
  },
  {
   "cell_type": "code",
   "execution_count": 6,
   "id": "0986d888",
   "metadata": {},
   "outputs": [],
   "source": [
    "df[\"new_review\"] = df[\"total_reviews\"].apply(lambda x : \"0-50\" if x<=50 else (\"51-200\" if x<=200 else (\"201-500\" if x<=500 else (\"501-1000\" if x <=1000 else (\"1001-2000\" if x <= 2000 else (\"2001-3000\" if x <=3000 else \"3001 up\"))))))"
   ]
  },
  {
   "cell_type": "code",
   "execution_count": 7,
   "id": "979b04b7",
   "metadata": {},
   "outputs": [
    {
     "name": "stdout",
     "output_type": "stream",
     "text": [
      "總共有25145筆,22個columns\n"
     ]
    }
   ],
   "source": [
    "# df[[\"total_reviews\",\"new_review\"]].head()\n",
    "print(f'總共有{df.shape[0]}筆,{df.shape[1]}個columns')"
   ]
  },
  {
   "cell_type": "markdown",
   "id": "e801454a",
   "metadata": {},
   "source": [
    "# Add columns , name [\"monday\",\"tuesday\",\"wednesday\",\"thursday\",\"friday\",\"saturday\",\"sunday\"]"
   ]
  },
  {
   "cell_type": "code",
   "execution_count": 8,
   "id": "f4481368",
   "metadata": {},
   "outputs": [],
   "source": [
    "# 下面切割用';',不補值 切割會報錯, 營業時間為nan，需要刪掉\n",
    "df_1 = df[\"opening_hours\"].fillna(value=\"星期一、沒寫;星期二、沒寫;星期三、沒寫;星期四、沒寫;星期五、沒寫;星期六、沒寫;星期日、沒寫\")\n",
    "# 原Series先用';'分割\n",
    "df_1 = df_1.str.split(';')"
   ]
  },
  {
   "cell_type": "code",
   "execution_count": 9,
   "id": "7f42e76f",
   "metadata": {},
   "outputs": [],
   "source": [
    "# 時段有營業=1,沒營業=0\n",
    "def check_business_hours(week_list):\n",
    "    \n",
    "    # 宣告為tuple，避免被改值\n",
    "    one  = (1,1,1,1,1,1,1,1,1,1,1,1,1,1,1,1,1,1,1,1,1,1,1,1)\n",
    "    zero = (0,0,0,0,0,0,0,0,0,0,0,0,0,0,0,0,0,0,0,0,0,0,0,0)\n",
    "    \n",
    "    # 宣告變數存相對應的字串\n",
    "    str_monday    = str([s for s in week_list if \"星期一\" in s])\n",
    "    str_tuesday   = str([s for s in week_list if \"星期二\" in s])\n",
    "    str_wednesday = str([s for s in week_list if \"星期三\" in s])\n",
    "    str_thursday  = str([s for s in week_list if \"星期四\" in s])\n",
    "    str_friday    = str([s for s in week_list if \"星期五\" in s])\n",
    "    str_saturday  = str([s for s in week_list if \"星期六\" in s])\n",
    "    str_sunday    = str([s for s in week_list if \"星期日\" in s])\n",
    "        \n",
    "    str_week = [str_monday,str_tuesday,str_wednesday,str_thursday,str_friday,str_saturday,str_sunday]\n",
    "    \n",
    "    openHour_0_1_list =[]\n",
    "    listt = []\n",
    "    \n",
    "    for day in str_week:\n",
    "        \n",
    "        time = re.sub(r':\\d\\d','',day)\n",
    "        time = re.findall(r'\\d\\d', time)\n",
    "        time = list(map(int, time)) #str轉int\n",
    "        \n",
    "        if len(time) == 0:\n",
    "            listt = list(zero)\n",
    "            \n",
    "        elif len(time) == 1:\n",
    "            listt = list(one)\n",
    "    \n",
    "        elif len(time) > 1:\n",
    "            \n",
    "            # 晚上營業時間沒有跨日\n",
    "            if time[-1] - time[0] > 0:\n",
    "                listt = list(zero)\n",
    "                \n",
    "                if len(time) >= 2:\n",
    "                    listt[time[0]:time[1]] = np.ones(time[1]-time[0])\n",
    "\n",
    "                    if len(time) >= 4:\n",
    "                        listt[time[2]:time[3]] = np.ones(abs(time[3]-time[2]))\n",
    "\n",
    "                        if len(time) >= 6:\n",
    "                            listt[time[4]:time[5]] = np.ones(time[5]-time[4])\n",
    "\n",
    "                            if len(time) >= 8:\n",
    "                                listt[time[6]:time[7]] = np.ones(time[7]-time[6])\n",
    "           \n",
    "        \n",
    "            # 晚上營業時間跨日    \n",
    "            if time[-1] - time[0] < 0:\n",
    "                listt = list(one)\n",
    "                \n",
    "                if len(time) >= 2:\n",
    "                    listt[time[-1]:time[0]] = np.zeros(abs(time[-1]-time[0]))\n",
    "\n",
    "                    if len(time) >= 4:\n",
    "                        listt[time[1]:time[2]] = np.zeros(abs(time[2]-time[1]))\n",
    "\n",
    "                        if len(time) >= 6:\n",
    "                            listt[time[3]:time[4]] = np.zeros(abs(time[4]-time[3]))\n",
    "\n",
    "                            if len(time) >= 8:\n",
    "                                listt[time[5]:time[6]] = np.zeros(abs(time[6]-time[5]))\n",
    "            \n",
    "        openHour_0_1_list.append(listt)\n",
    "    return openHour_0_1_list\n"
   ]
  },
  {
   "cell_type": "code",
   "execution_count": 10,
   "id": "226d6fbf",
   "metadata": {},
   "outputs": [],
   "source": [
    "monday_openList    = []\n",
    "tuesday_openList   = []\n",
    "wednesday_openList = []\n",
    "thursday_openList  = []\n",
    "friday_openList    = []\n",
    "saturday_openList  = []\n",
    "sunday_openList    = []\n",
    "\n",
    "for i in range(len(df_1)):\n",
    "    list_ = check_business_hours(df_1[i])\n",
    "    monday_openList.append(list_[0])\n",
    "    tuesday_openList.append(list_[1])\n",
    "    wednesday_openList.append(list_[2])\n",
    "    thursday_openList.append(list_[3])\n",
    "    friday_openList.append(list_[4])\n",
    "    saturday_openList.append(list_[5])\n",
    "    sunday_openList.append(list_[6])\n",
    "\n",
    "df[\"monday\"]    = pd.Series(monday_openList)\n",
    "df[\"tuesday\"]   = pd.Series(tuesday_openList)\n",
    "df[\"wednesday\"] = pd.Series(wednesday_openList)\n",
    "df[\"thursday\"]  = pd.Series(thursday_openList)\n",
    "df[\"friday\"]    = pd.Series(friday_openList)\n",
    "df[\"saturday\"]  = pd.Series(saturday_openList)\n",
    "df[\"sunday\"]    = pd.Series(sunday_openList)"
   ]
  },
  {
   "cell_type": "code",
   "execution_count": 11,
   "id": "a86a94b5",
   "metadata": {},
   "outputs": [
    {
     "name": "stdout",
     "output_type": "stream",
     "text": [
      "總共有25145筆,29個columns\n"
     ]
    }
   ],
   "source": [
    "print(f'總共有{df.shape[0]}筆,{df.shape[1]}個columns')"
   ]
  },
  {
   "cell_type": "markdown",
   "id": "95a7038a",
   "metadata": {},
   "source": [
    "# Add columns , name \"new_place_category\",  into 15 categories"
   ]
  },
  {
   "cell_type": "code",
   "execution_count": 12,
   "id": "ecffa9b7",
   "metadata": {},
   "outputs": [
    {
     "name": "stderr",
     "output_type": "stream",
     "text": [
      "C:\\Users\\mason89823\\AppData\\Local\\Temp\\ipykernel_11632\\3108347982.py:1: FutureWarning: The squeeze argument has been deprecated and will be removed in a future version. Append .squeeze(\"columns\") to the call to squeeze.\n",
      "\n",
      "\n",
      "  df_2 = pd.read_csv('Data/raw_data/restaurant/place_info/餐廳類別人工標記/餐廳類別縮減成15大.csv',index_col=0,squeeze=True)\n",
      "C:\\Users\\mason89823\\AppData\\Local\\Temp\\ipykernel_11632\\3108347982.py:2: FutureWarning: The squeeze argument has been deprecated and will be removed in a future version. Append .squeeze(\"columns\") to the call to squeeze.\n",
      "\n",
      "\n",
      "  df_3 = pd.read_csv('Data/raw_data/restaurant/place_info/餐廳類別人工標記/餐廳人工標記.csv',index_col=0,squeeze=True)\n",
      "C:\\Users\\mason89823\\AppData\\Local\\Temp\\ipykernel_11632\\3108347982.py:3: FutureWarning: The squeeze argument has been deprecated and will be removed in a future version. Append .squeeze(\"columns\") to the call to squeeze.\n",
      "\n",
      "\n",
      "  df_4 = pd.read_csv('Data/raw_data/restaurant/place_info/餐廳類別人工標記/餐廳人工標記2.csv',index_col=0,squeeze=True)\n"
     ]
    }
   ],
   "source": [
    "df_2 = pd.read_csv('Data/raw_data/restaurant/place_info/餐廳類別人工標記/餐廳類別縮減成15大.csv',index_col=0,squeeze=True)\n",
    "df_3 = pd.read_csv('Data/raw_data/restaurant/place_info/餐廳類別人工標記/餐廳人工標記.csv',index_col=0,squeeze=True)\n",
    "df_4 = pd.read_csv('Data/raw_data/restaurant/place_info/餐廳類別人工標記/餐廳人工標記2.csv',index_col=0,squeeze=True)"
   ]
  },
  {
   "cell_type": "code",
   "execution_count": 13,
   "id": "02b16723",
   "metadata": {},
   "outputs": [],
   "source": [
    "# 把原本的類別縮減成15大類別\n",
    "Series1 = df[\"place_category\"].map(df_2.to_dict())\n",
    "# 把餐廳類別賦予15大類別\n",
    "Series2 = df_3.loc[:,\"標記\"]\n",
    "Series1.update(Series2)\n",
    "# 把其他類別更改成15大類別\n",
    "Series3 = df_4.loc[:,\"標記\"]\n",
    "Series1.update(Series3)"
   ]
  },
  {
   "cell_type": "markdown",
   "id": "223cb708",
   "metadata": {},
   "source": [
    "### 加回原dataframe , df"
   ]
  },
  {
   "cell_type": "code",
   "execution_count": 14,
   "id": "2fee0bff",
   "metadata": {},
   "outputs": [
    {
     "name": "stdout",
     "output_type": "stream",
     "text": [
      "總共有25145筆,30個columns\n"
     ]
    }
   ],
   "source": [
    "df[\"new_place_category\"] = Series1\n",
    "print(f'總共有{df.shape[0]}筆,{df.shape[1]}個columns')"
   ]
  },
  {
   "cell_type": "markdown",
   "id": "a4d1386b",
   "metadata": {},
   "source": [
    "### Check if category is 15 categories"
   ]
  },
  {
   "cell_type": "code",
   "execution_count": 15,
   "id": "7ed6955d",
   "metadata": {},
   "outputs": [],
   "source": [
    "# df.groupby(\"new_place_category\").size()"
   ]
  },
  {
   "cell_type": "code",
   "execution_count": 16,
   "id": "6c44bd10",
   "metadata": {
    "scrolled": true
   },
   "outputs": [
    {
     "name": "stderr",
     "output_type": "stream",
     "text": [
      "C:\\Users\\mason89823\\AppData\\Local\\Temp\\ipykernel_11632\\603344031.py:1: SettingWithCopyWarning: \n",
      "A value is trying to be set on a copy of a slice from a DataFrame\n",
      "\n",
      "See the caveats in the documentation: https://pandas.pydata.org/pandas-docs/stable/user_guide/indexing.html#returning-a-view-versus-a-copy\n",
      "  df[\"new_place_category\"][df.loc[:,\"new_place_category\"]==\"臺菜\"] = \"台灣小吃/熱炒店\"\n",
      "C:\\Users\\mason89823\\AppData\\Local\\Temp\\ipykernel_11632\\603344031.py:2: SettingWithCopyWarning: \n",
      "A value is trying to be set on a copy of a slice from a DataFrame\n",
      "\n",
      "See the caveats in the documentation: https://pandas.pydata.org/pandas-docs/stable/user_guide/indexing.html#returning-a-view-versus-a-copy\n",
      "  df[\"new_place_category\"][df.loc[:,\"new_place_category\"]==\"臺菜/熱炒店\"] = \"台灣小吃/熱炒店\"\n",
      "C:\\Users\\mason89823\\AppData\\Local\\Temp\\ipykernel_11632\\603344031.py:3: SettingWithCopyWarning: \n",
      "A value is trying to be set on a copy of a slice from a DataFrame\n",
      "\n",
      "See the caveats in the documentation: https://pandas.pydata.org/pandas-docs/stable/user_guide/indexing.html#returning-a-view-versus-a-copy\n",
      "  df[\"new_place_category\"][df.loc[:,\"new_place_category\"]==\"中式\\r\"] = \"中式\"\n",
      "C:\\Users\\mason89823\\AppData\\Local\\Temp\\ipykernel_11632\\603344031.py:4: SettingWithCopyWarning: \n",
      "A value is trying to be set on a copy of a slice from a DataFrame\n",
      "\n",
      "See the caveats in the documentation: https://pandas.pydata.org/pandas-docs/stable/user_guide/indexing.html#returning-a-view-versus-a-copy\n",
      "  df[\"new_place_category\"][df.loc[:,\"new_place_category\"]==\"火鍋\\r\"] = \"火鍋\"\n",
      "C:\\Users\\mason89823\\AppData\\Local\\Temp\\ipykernel_11632\\603344031.py:5: SettingWithCopyWarning: \n",
      "A value is trying to be set on a copy of a slice from a DataFrame\n",
      "\n",
      "See the caveats in the documentation: https://pandas.pydata.org/pandas-docs/stable/user_guide/indexing.html#returning-a-view-versus-a-copy\n",
      "  df[\"new_place_category\"][df.loc[:,\"new_place_category\"]==\"酒吧\"] = \"酒吧/餐酒館\"\n",
      "C:\\Users\\mason89823\\AppData\\Local\\Temp\\ipykernel_11632\\603344031.py:6: SettingWithCopyWarning: \n",
      "A value is trying to be set on a copy of a slice from a DataFrame\n",
      "\n",
      "See the caveats in the documentation: https://pandas.pydata.org/pandas-docs/stable/user_guide/indexing.html#returning-a-view-versus-a-copy\n",
      "  df[\"new_place_category\"][df.loc[:,\"new_place_category\"]==\"酒吧/餐酒館\\r\"] = \"酒吧/餐酒館\"\n",
      "C:\\Users\\mason89823\\AppData\\Local\\Temp\\ipykernel_11632\\603344031.py:7: SettingWithCopyWarning: \n",
      "A value is trying to be set on a copy of a slice from a DataFrame\n",
      "\n",
      "See the caveats in the documentation: https://pandas.pydata.org/pandas-docs/stable/user_guide/indexing.html#returning-a-view-versus-a-copy\n",
      "  df[\"new_place_category\"][df.loc[:,\"new_place_category\"]==\"?\"] =\"酒吧/餐酒館\"\n"
     ]
    }
   ],
   "source": [
    "df[\"new_place_category\"][df.loc[:,\"new_place_category\"]==\"臺菜\"] = \"台灣小吃/熱炒店\"\n",
    "df[\"new_place_category\"][df.loc[:,\"new_place_category\"]==\"臺菜/熱炒店\"] = \"台灣小吃/熱炒店\"\n",
    "df[\"new_place_category\"][df.loc[:,\"new_place_category\"]==\"中式\\r\"] = \"中式\"\n",
    "df[\"new_place_category\"][df.loc[:,\"new_place_category\"]==\"火鍋\\r\"] = \"火鍋\"\n",
    "df[\"new_place_category\"][df.loc[:,\"new_place_category\"]==\"酒吧\"] = \"酒吧/餐酒館\"\n",
    "df[\"new_place_category\"][df.loc[:,\"new_place_category\"]==\"酒吧/餐酒館\\r\"] = \"酒吧/餐酒館\"\n",
    "df[\"new_place_category\"][df.loc[:,\"new_place_category\"]==\"?\"] =\"酒吧/餐酒館\""
   ]
  },
  {
   "cell_type": "code",
   "execution_count": 17,
   "id": "20cc39b3",
   "metadata": {},
   "outputs": [
    {
     "name": "stdout",
     "output_type": "stream",
     "text": [
      "總共有25145筆,30個columns\n"
     ]
    }
   ],
   "source": [
    "print(f'總共有{df.shape[0]}筆,{df.shape[1]}個columns')"
   ]
  },
  {
   "cell_type": "markdown",
   "id": "21bef21f",
   "metadata": {},
   "source": [
    "# Add columns ,name [\"longitude,latitude\"]"
   ]
  },
  {
   "cell_type": "code",
   "execution_count": 18,
   "id": "a4694b02",
   "metadata": {},
   "outputs": [],
   "source": [
    "split_url = df[\"google_url\"].str.split(\"!3d|!4d|!16\" , regex=True,expand=True)\n",
    "df[\"longitude\"] =  split_url.get(1)\n",
    "df[\"latitude\"]  = split_url.get(2)\n",
    "# df[[\"longitude\",\"latitude\"]].head()"
   ]
  },
  {
   "cell_type": "code",
   "execution_count": 19,
   "id": "20aaedc3",
   "metadata": {},
   "outputs": [
    {
     "name": "stdout",
     "output_type": "stream",
     "text": [
      "總共有25145筆,32個columns\n"
     ]
    }
   ],
   "source": [
    "print(f'總共有{df.shape[0]}筆,{df.shape[1]}個columns')"
   ]
  },
  {
   "cell_type": "markdown",
   "id": "0d407788",
   "metadata": {},
   "source": [
    "# Remove  \"x\" or \"X\""
   ]
  },
  {
   "cell_type": "code",
   "execution_count": 20,
   "id": "2935cad4",
   "metadata": {},
   "outputs": [
    {
     "name": "stdout",
     "output_type": "stream",
     "text": [
      "總共有24089筆,32個columns\n"
     ]
    }
   ],
   "source": [
    "df = df[df[\"new_place_category\"] != \"X\"]\n",
    "df = df[df[\"new_place_category\"] != \"x\"]\n",
    "print(f'總共有{df.shape[0]}筆,{df.shape[1]}個columns')"
   ]
  },
  {
   "cell_type": "markdown",
   "id": "11ea6603",
   "metadata": {},
   "source": [
    "# Remove NaN from \"new_place_category\""
   ]
  },
  {
   "cell_type": "code",
   "execution_count": 21,
   "id": "47251327",
   "metadata": {},
   "outputs": [
    {
     "name": "stdout",
     "output_type": "stream",
     "text": [
      "總共有20923筆,32個columns\n"
     ]
    }
   ],
   "source": [
    "df = df.dropna(subset=\"new_place_category\")\n",
    "print(f'總共有{df.shape[0]}筆,{df.shape[1]}個columns')"
   ]
  },
  {
   "cell_type": "markdown",
   "id": "980f8d08",
   "metadata": {},
   "source": [
    "# Remove NaN from \"opening_hours\""
   ]
  },
  {
   "cell_type": "code",
   "execution_count": 22,
   "id": "bd3e2883",
   "metadata": {},
   "outputs": [
    {
     "name": "stdout",
     "output_type": "stream",
     "text": [
      "總共有19911筆,32個columns\n"
     ]
    }
   ],
   "source": [
    "df = df.dropna(subset=\"opening_hours\")\n",
    "print(f'總共有{df.shape[0]}筆,{df.shape[1]}個columns')"
   ]
  },
  {
   "cell_type": "markdown",
   "id": "86525200",
   "metadata": {},
   "source": [
    "# Remove duplicate address and place_name"
   ]
  },
  {
   "cell_type": "code",
   "execution_count": 23,
   "id": "fc4d87d0",
   "metadata": {},
   "outputs": [
    {
     "name": "stdout",
     "output_type": "stream",
     "text": [
      "總共有19832筆,32個columns\n"
     ]
    }
   ],
   "source": [
    "df = df.drop_duplicates(subset=['address', 'place_name'])\n",
    "print(f'總共有{df.shape[0]}筆,{df.shape[1]}個columns')"
   ]
  },
  {
   "cell_type": "markdown",
   "id": "a37e7866",
   "metadata": {},
   "source": [
    "# Remove total_reviews < 30"
   ]
  },
  {
   "cell_type": "code",
   "execution_count": 24,
   "id": "0a792313",
   "metadata": {},
   "outputs": [
    {
     "name": "stdout",
     "output_type": "stream",
     "text": [
      "總共有17637筆,32個columns\n"
     ]
    }
   ],
   "source": [
    "df = df[df.loc[:,\"total_reviews\"] > 30]\n",
    "print(f'總共有{df.shape[0]}筆,{df.shape[1]}個columns')"
   ]
  },
  {
   "cell_type": "markdown",
   "id": "50235289",
   "metadata": {},
   "source": [
    "# Remove can't eat_in"
   ]
  },
  {
   "cell_type": "code",
   "execution_count": 25,
   "id": "1fd746a5",
   "metadata": {},
   "outputs": [
    {
     "name": "stdout",
     "output_type": "stream",
     "text": [
      "總共有16510筆,32個columns\n"
     ]
    }
   ],
   "source": [
    "df = df[df.loc[:,\"eat_in\"] == 1]\n",
    "print(f'總共有{df.shape[0]}筆,{df.shape[1]}個columns')"
   ]
  },
  {
   "cell_type": "markdown",
   "id": "7f865235",
   "metadata": {},
   "source": [
    "# Remove chain restaurants"
   ]
  },
  {
   "cell_type": "code",
   "execution_count": 26,
   "id": "e6bd428b",
   "metadata": {},
   "outputs": [],
   "source": [
    "df = df[~df[\"place_name\"].str.contains(\"兩披索靚鍋\")]\n",
    "df = df[~df[\"place_name\"].str.contains(\"摩斯漢堡\")]\n",
    "df = df[~df[\"place_name\"].str.contains(\"老虎醬溫州大餛飩\")]\n",
    "df = df[~df[\"place_name\"].str.contains(\"潮味決\")]\n",
    "df = df[~df[\"place_name\"].str.contains(\"莫凡彼\")]\n",
    "df = df[~df[\"place_name\"].str.contains(\"大戶屋\")]\n",
    "df = df[~df[\"place_name\"].str.contains(\"永和豆漿\")]\n",
    "df = df[~df[\"place_name\"].str.contains(\"霸味薑母鴨\")]\n",
    "df = df[~df[\"place_name\"].str.contains(\"川醉湘麻辣食堂\")]\n",
    "df = df[~df[\"place_name\"].str.contains(\"滷春秋\")]\n",
    "df = df[~df[\"place_name\"].str.contains(\"三顧茅廬\")]\n",
    "df = df[~df[\"place_name\"].str.contains(\"三商巧福\")]\n",
    "df = df[~df[\"place_name\"].str.contains(\"八方雲集\")]\n",
    "df = df[~df[\"place_name\"].str.contains(\"定食8\")]\n",
    "df = df[~df[\"place_name\"].str.contains(\"小南門傳統美食\")]\n",
    "df = df[~df[\"place_name\"].str.contains(\"Cafe 8\")]\n",
    "df = df[~df[\"place_name\"].str.contains(\"8鍋臭臭鍋\")]\n",
    "df = df[~df[\"place_name\"].str.contains(\"大呼過癮\")]\n",
    "df = df[~df[\"place_name\"].str.contains(\"定食8\")]\n",
    "df = df[~df[\"place_name\"].str.contains(\"忠青商行\")]\n",
    "df = df[~df[\"place_name\"].str.contains(\"興葉蚵仔煎\")]\n",
    "df = df[~df[\"place_name\"].str.contains(\"爭鮮\")]"
   ]
  },
  {
   "cell_type": "code",
   "execution_count": 27,
   "id": "6839aa8b",
   "metadata": {},
   "outputs": [
    {
     "name": "stdout",
     "output_type": "stream",
     "text": [
      "總共有16174筆,32個columns\n"
     ]
    }
   ],
   "source": [
    "print(f'總共有{df.shape[0]}筆,{df.shape[1]}個columns')"
   ]
  },
  {
   "cell_type": "markdown",
   "id": "30a68af7",
   "metadata": {},
   "source": [
    "# Concate lost Restaurant"
   ]
  },
  {
   "cell_type": "code",
   "execution_count": 28,
   "id": "44a641aa",
   "metadata": {},
   "outputs": [
    {
     "name": "stdout",
     "output_type": "stream",
     "text": [
      "總共有16182筆,31個columns\n"
     ]
    }
   ],
   "source": [
    "dfLost = pd.read_csv(\"Data/raw_data/restaurant/lost_restaurant.csv\")\n",
    "df = df.drop(\"file_name_2\",axis=\"columns\")\n",
    "df = df.rename(columns={\"opening_hours\":\"opening_hour\"})\n",
    "dfLost = dfLost.rename(columns={\"new_latitude\":\"latitude\",\"new_longitude\":\"longitude\"})\n",
    "df = pd.concat([df,dfLost])\n",
    "print(f'總共有{df.shape[0]}筆,{df.shape[1]}個columns')"
   ]
  },
  {
   "cell_type": "markdown",
   "id": "b53e7b4e",
   "metadata": {},
   "source": [
    "# save to csv "
   ]
  },
  {
   "cell_type": "code",
   "execution_count": 29,
   "id": "226596e1",
   "metadata": {},
   "outputs": [],
   "source": [
    "df.to_csv('place_info_final_1217.csv',index=None)"
   ]
  },
  {
   "cell_type": "code",
   "execution_count": null,
   "id": "2a8d8c46",
   "metadata": {},
   "outputs": [],
   "source": []
  }
 ],
 "metadata": {
  "kernelspec": {
   "display_name": "Python 3 (ipykernel)",
   "language": "python",
   "name": "python3"
  },
  "language_info": {
   "codemirror_mode": {
    "name": "ipython",
    "version": 3
   },
   "file_extension": ".py",
   "mimetype": "text/x-python",
   "name": "python",
   "nbconvert_exporter": "python",
   "pygments_lexer": "ipython3",
   "version": "3.10.8"
  }
 },
 "nbformat": 4,
 "nbformat_minor": 5
}

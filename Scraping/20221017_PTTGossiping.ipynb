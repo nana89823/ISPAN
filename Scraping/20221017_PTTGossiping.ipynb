{
 "cells": [
  {
   "cell_type": "code",
   "execution_count": 1,
   "id": "5420d986",
   "metadata": {},
   "outputs": [],
   "source": [
    "import requests as req \n",
    "from bs4 import BeautifulSoup as bs\n",
    "import json\n",
    "from fake_useragent import UserAgent "
   ]
  },
  {
   "cell_type": "code",
   "execution_count": 14,
   "id": "346afeae",
   "metadata": {},
   "outputs": [
    {
     "name": "stdout",
     "output_type": "stream",
     "text": [
      "['作者AsllaPiscu (阿斯拉)看板Gossiping標題[問卦] 用電鰻發電給音響能產生怎樣的音質時間Thu Oct 20 15:22:50 2022\\n\\n眾所周知\\n利用不同的發電方式所產生的電力\\n在高階音響上會呈現不同性質的音色\\n所以音響玩家都很注重家裡的用電來源\\n水力、火力、核能、風力、太陽能\\n各式各樣的能源都各有擁護者\\n甚至玩得再專業一點\\n連水源、燃料、燃料棒、風場跟緯度都會注重\\n\\n那麼問題來了\\n如果用電鰻發電來提供給高階音響\\n會產生怎樣特質的聲音呢\\n不同產地的電鰻、養殖或野生的電鰻\\n發出來的電又會在音響上表現怎樣的音色差異\\n有沒有八卦？\\n\\n-----\\nSent from JPTT on my Asus ASUS_Z01RD.\\n\\n--\\n※ 發信站: 批踢踢實業坊(ptt.cc), 來自: 101.9.101.56 (臺灣)\\n※ 文章網址: https://www.ptt.cc/bbs/Gossiping/M.1666250572.A.0B7.html\\n→ Yude0109: 別發廢文  42.72.211.202 10/20 15:23\\n推 crescentmt: 放一次加拿大電鰻的歌聽聽看就知道了   1.161.113.67 10/20 15:24\\n推 domago: 水溫也會影響  180.217.16.80 10/20 15:26\\n推 flux: 聽得出那隻電鰻今天484有拉肚子  42.75.113.193 10/20 15:27\\n推 k1400: 很滑  114.43.90.185 10/20 15:28\\n推 ryrp: 我都用皮卡丘來發電，上次聽一聽突然爆音 結 110.26.163.138 10/20 15:29\\n→ ryrp: 果發現是進化成雷丘了 110.26.163.138 10/20 15:29\\n→ nekoares: 有機的感覺  220.136.44.65 10/20 15:30\\n推 airmike: 音響都類比的嗎?  211.20.104.63 10/20 15:34\\n→ sellgd: 軟嫩的泛音 203.222.13.126 10/20 15:34\\n→ dan5120: 濃醇香   223.139.78.2 10/20 15:37\\n推 mithuang: 重點是接地   42.77.71.253 10/20 15:38\\n推 ccucwc: 音色會帶有蒲燒味 124.32.211.221 10/20 15:40\\n→ paphos: 放腳踏車叫妹啊踩發電，喇叭推動有粉味的   114.36.18.84 10/20 15:53\\n→ paphos: 空氣將粉紅的聲音傳到耳朵，舒服   114.36.18.84 10/20 15:53\\n']\n"
     ]
    }
   ],
   "source": [
    "ua = UserAgent(cache= True)\n",
    "url = \"https://www.ptt.cc/bbs/Gossiping/index.html\"\n",
    "res = req.get(url, cookies={\"over18\": \"1\"}, headers={\"user-agent\": ua.random})\n",
    "soup = bs(res.text,\"lxml\")\n",
    "\n",
    "listElement=soup.select(\"div.title a\")\n",
    "list_href=[]\n",
    "list_content=[]\n",
    "list_url= list_href\n",
    "\n",
    "for a in listElement:\n",
    "    list_href.append(\"https://www.ptt.cc/\"+a[\"href\"])\n",
    "\n",
    "# for index, link in enumerate(list_href):\n",
    "res = req.get(list_url.pop(0), cookies={\"over18\": \"1\"})\n",
    "soup = bs(res.text,\"lxml\")\n",
    "# print(soup.select_one(\"#main-content\").get_text())\n",
    "list_content.append(soup.select_one(\"#main-content\").get_text())\n",
    "print(list_content)\n",
    "# list_content.append(soup.select_one(\"div.bbs-screen.bbs-content\").get_text())\n",
    "# print(list_content)"
   ]
  },
  {
   "cell_type": "code",
   "execution_count": null,
   "id": "be7f9a1f",
   "metadata": {},
   "outputs": [],
   "source": []
  },
  {
   "cell_type": "code",
   "execution_count": null,
   "id": "75eae23c",
   "metadata": {},
   "outputs": [],
   "source": []
  }
 ],
 "metadata": {
  "kernelspec": {
   "display_name": "Python 3 (ipykernel)",
   "language": "python",
   "name": "python3"
  },
  "language_info": {
   "codemirror_mode": {
    "name": "ipython",
    "version": 3
   },
   "file_extension": ".py",
   "mimetype": "text/x-python",
   "name": "python",
   "nbconvert_exporter": "python",
   "pygments_lexer": "ipython3",
   "version": "3.9.13"
  }
 },
 "nbformat": 4,
 "nbformat_minor": 5
}

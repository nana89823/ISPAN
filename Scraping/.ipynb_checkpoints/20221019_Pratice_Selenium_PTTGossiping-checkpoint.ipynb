{
 "cells": [
  {
   "cell_type": "code",
   "execution_count": 9,
   "id": "10c32eb5",
   "metadata": {},
   "outputs": [],
   "source": [
    "from selenium.webdriver.chrome.service import Service\n",
    "from selenium import webdriver\n",
    "from bs4 import BeautifulSoup as bs\n",
    "from time import sleep\n",
    "\n",
    "\n",
    "service = Service(executable_path=\"./chromedriver.exe\")\n",
    "driver = webdriver.Chrome(service=service)\n",
    "\n",
    "driver.get(\"https://www.ptt.cc/bbs/Gossiping/index.html\")\n",
    "driver.add_cookie({\"name\" : \"over18\", \"value\" : \"1\"})\n",
    "driver.get(\"https://www.ptt.cc/bbs/Gossiping/index.html\")\n",
    "\n",
    "html = driver.page_source\n",
    "soup = bs(html,\"lxml\")\n",
    "\n",
    "ResultSetElement = soup.select(\"div.title a\")\n",
    "List_href = []\n",
    "\n",
    "for a in (ResultSetElement):\n",
    "    List_href.append(\"https://www.ptt.cc/\"+ a[\"href\"])\n",
    "\n",
    "for index , link in enumerate(List_href):\n",
    "    driver.get(link)\n",
    "    html = driver.page_source\n",
    "    soup = bs(html,\"lxml\")\n",
    "    print(soup.select_one(\"div.bbs-screen.bbs-content\").get_text())\n",
    "    sleep(2)\n",
    "driver.quit()"
   ]
  }
 ],
 "metadata": {
  "kernelspec": {
   "display_name": "Python 3 (ipykernel)",
   "language": "python",
   "name": "python3"
  },
  "language_info": {
   "codemirror_mode": {
    "name": "ipython",
    "version": 3
   },
   "file_extension": ".py",
   "mimetype": "text/x-python",
   "name": "python",
   "nbconvert_exporter": "python",
   "pygments_lexer": "ipython3",
   "version": "3.9.13"
  }
 },
 "nbformat": 4,
 "nbformat_minor": 5
}

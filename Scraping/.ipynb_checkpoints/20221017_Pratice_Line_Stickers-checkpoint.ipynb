{
 "cells": [
  {
   "cell_type": "code",
   "execution_count": 1,
   "id": "899723a6",
   "metadata": {},
   "outputs": [],
   "source": [
    "import requests as req\n",
    "import os ,json\n",
    "from bs4 import BeautifulSoup as bs\n",
    "from fake_useragent import UserAgent"
   ]
  },
  {
   "cell_type": "code",
   "execution_count": 2,
   "id": "ee91b998",
   "metadata": {},
   "outputs": [
    {
     "name": "stdout",
     "output_type": "stream",
     "text": [
      "Mozilla/5.0 (Windows NT 6.1; WOW64) AppleWebKit/537.36 (KHTML, like Gecko) Chrome/27.0.1453.93 Safari/537.36\n"
     ]
    }
   ],
   "source": [
    "ua = UserAgent(cache=True)\n",
    "print(ua.random)"
   ]
  },
  {
   "cell_type": "code",
   "execution_count": 11,
   "id": "12d0f50e",
   "metadata": {},
   "outputs": [
    {
     "name": "stdout",
     "output_type": "stream",
     "text": [
      "<class 'str'>\n",
      "<class 'dict'>\n",
      "<class 'list'>\n",
      "<class 'bs4.element.ResultSet'>\n",
      "<class 'bs4.element.Tag'>\n"
     ]
    }
   ],
   "source": [
    "folderPath = \"胖虎動起來02\"\n",
    "\n",
    "if os.path.exists(folderPath) == False :\n",
    "    os.makedirs(folderPath)\n",
    "\n",
    "listLineStickers=[] \n",
    "\n",
    "url=\"https://store.line.me/stickershop/product/24430/zh-Hant\"\n",
    "res= req.get(url, headers={\"user-agent\":ua.random})\n",
    "soup=bs(res.text,\"lxml\")\n",
    "\n",
    "list_element= soup.select(\"ul.mdCMN09Ul.FnStickerList li.mdCMN09Li.FnStickerPreviewItem\")\n",
    "\n",
    "\n",
    "for i in list_element:\n",
    "    strJson=(i[\"data-preview\"])\n",
    "    obj= json.loads(strJson)\n",
    "    listLineStickers.append(obj)\n",
    "print(type(strJson))\n",
    "print(type(obj))\n",
    "print(type(listLineStickers))\n",
    "print(type(list_element))\n",
    "print(type(i))"
   ]
  },
  {
   "cell_type": "code",
   "execution_count": 17,
   "id": "272ddd04",
   "metadata": {},
   "outputs": [
    {
     "name": "stdout",
     "output_type": "stream",
     "text": [
      "動圖id:001 已下載完成,下載網址: https://stickershop.line-scdn.net/sticonshop/v1/sticon/62f0eb2483603436e7d16179/iPhone/001_animation.png\n",
      "動圖id:002 已下載完成,下載網址: https://stickershop.line-scdn.net/sticonshop/v1/sticon/62f0eb2483603436e7d16179/iPhone/002_animation.png\n",
      "動圖id:003 已下載完成,下載網址: https://stickershop.line-scdn.net/sticonshop/v1/sticon/62f0eb2483603436e7d16179/iPhone/003_animation.png\n",
      "動圖id:004 已下載完成,下載網址: https://stickershop.line-scdn.net/sticonshop/v1/sticon/62f0eb2483603436e7d16179/iPhone/004_animation.png\n",
      "動圖id:005 已下載完成,下載網址: https://stickershop.line-scdn.net/sticonshop/v1/sticon/62f0eb2483603436e7d16179/iPhone/005_animation.png\n",
      "動圖id:006 已下載完成,下載網址: https://stickershop.line-scdn.net/sticonshop/v1/sticon/62f0eb2483603436e7d16179/iPhone/006_animation.png\n",
      "動圖id:007 已下載完成,下載網址: https://stickershop.line-scdn.net/sticonshop/v1/sticon/62f0eb2483603436e7d16179/iPhone/007_animation.png\n",
      "動圖id:008 已下載完成,下載網址: https://stickershop.line-scdn.net/sticonshop/v1/sticon/62f0eb2483603436e7d16179/iPhone/008_animation.png\n",
      "動圖id:009 已下載完成,下載網址: https://stickershop.line-scdn.net/sticonshop/v1/sticon/62f0eb2483603436e7d16179/iPhone/009_animation.png\n",
      "動圖id:010 已下載完成,下載網址: https://stickershop.line-scdn.net/sticonshop/v1/sticon/62f0eb2483603436e7d16179/iPhone/010_animation.png\n",
      "動圖id:011 已下載完成,下載網址: https://stickershop.line-scdn.net/sticonshop/v1/sticon/62f0eb2483603436e7d16179/iPhone/011_animation.png\n",
      "動圖id:012 已下載完成,下載網址: https://stickershop.line-scdn.net/sticonshop/v1/sticon/62f0eb2483603436e7d16179/iPhone/012_animation.png\n",
      "動圖id:013 已下載完成,下載網址: https://stickershop.line-scdn.net/sticonshop/v1/sticon/62f0eb2483603436e7d16179/iPhone/013_animation.png\n",
      "動圖id:014 已下載完成,下載網址: https://stickershop.line-scdn.net/sticonshop/v1/sticon/62f0eb2483603436e7d16179/iPhone/014_animation.png\n",
      "動圖id:015 已下載完成,下載網址: https://stickershop.line-scdn.net/sticonshop/v1/sticon/62f0eb2483603436e7d16179/iPhone/015_animation.png\n",
      "動圖id:016 已下載完成,下載網址: https://stickershop.line-scdn.net/sticonshop/v1/sticon/62f0eb2483603436e7d16179/iPhone/016_animation.png\n",
      "動圖id:017 已下載完成,下載網址: https://stickershop.line-scdn.net/sticonshop/v1/sticon/62f0eb2483603436e7d16179/iPhone/017_animation.png\n",
      "動圖id:018 已下載完成,下載網址: https://stickershop.line-scdn.net/sticonshop/v1/sticon/62f0eb2483603436e7d16179/iPhone/018_animation.png\n",
      "動圖id:019 已下載完成,下載網址: https://stickershop.line-scdn.net/sticonshop/v1/sticon/62f0eb2483603436e7d16179/iPhone/019_animation.png\n",
      "動圖id:020 已下載完成,下載網址: https://stickershop.line-scdn.net/sticonshop/v1/sticon/62f0eb2483603436e7d16179/iPhone/020_animation.png\n",
      "動圖id:021 已下載完成,下載網址: https://stickershop.line-scdn.net/sticonshop/v1/sticon/62f0eb2483603436e7d16179/iPhone/021_animation.png\n",
      "動圖id:022 已下載完成,下載網址: https://stickershop.line-scdn.net/sticonshop/v1/sticon/62f0eb2483603436e7d16179/iPhone/022_animation.png\n",
      "動圖id:023 已下載完成,下載網址: https://stickershop.line-scdn.net/sticonshop/v1/sticon/62f0eb2483603436e7d16179/iPhone/023_animation.png\n",
      "動圖id:024 已下載完成,下載網址: https://stickershop.line-scdn.net/sticonshop/v1/sticon/62f0eb2483603436e7d16179/iPhone/024_animation.png\n",
      "動圖id:025 已下載完成,下載網址: https://stickershop.line-scdn.net/sticonshop/v1/sticon/62f0eb2483603436e7d16179/iPhone/025_animation.png\n",
      "動圖id:026 已下載完成,下載網址: https://stickershop.line-scdn.net/sticonshop/v1/sticon/62f0eb2483603436e7d16179/iPhone/026_animation.png\n",
      "動圖id:027 已下載完成,下載網址: https://stickershop.line-scdn.net/sticonshop/v1/sticon/62f0eb2483603436e7d16179/iPhone/027_animation.png\n",
      "動圖id:028 已下載完成,下載網址: https://stickershop.line-scdn.net/sticonshop/v1/sticon/62f0eb2483603436e7d16179/iPhone/028_animation.png\n",
      "動圖id:029 已下載完成,下載網址: https://stickershop.line-scdn.net/sticonshop/v1/sticon/62f0eb2483603436e7d16179/iPhone/029_animation.png\n",
      "動圖id:030 已下載完成,下載網址: https://stickershop.line-scdn.net/sticonshop/v1/sticon/62f0eb2483603436e7d16179/iPhone/030_animation.png\n",
      "動圖id:031 已下載完成,下載網址: https://stickershop.line-scdn.net/sticonshop/v1/sticon/62f0eb2483603436e7d16179/iPhone/031_animation.png\n",
      "動圖id:032 已下載完成,下載網址: https://stickershop.line-scdn.net/sticonshop/v1/sticon/62f0eb2483603436e7d16179/iPhone/032_animation.png\n",
      "動圖id:033 已下載完成,下載網址: https://stickershop.line-scdn.net/sticonshop/v1/sticon/62f0eb2483603436e7d16179/iPhone/033_animation.png\n",
      "動圖id:034 已下載完成,下載網址: https://stickershop.line-scdn.net/sticonshop/v1/sticon/62f0eb2483603436e7d16179/iPhone/034_animation.png\n",
      "動圖id:035 已下載完成,下載網址: https://stickershop.line-scdn.net/sticonshop/v1/sticon/62f0eb2483603436e7d16179/iPhone/035_animation.png\n",
      "動圖id:036 已下載完成,下載網址: https://stickershop.line-scdn.net/sticonshop/v1/sticon/62f0eb2483603436e7d16179/iPhone/036_animation.png\n",
      "動圖id:037 已下載完成,下載網址: https://stickershop.line-scdn.net/sticonshop/v1/sticon/62f0eb2483603436e7d16179/iPhone/037_animation.png\n",
      "動圖id:038 已下載完成,下載網址: https://stickershop.line-scdn.net/sticonshop/v1/sticon/62f0eb2483603436e7d16179/iPhone/038_animation.png\n",
      "動圖id:039 已下載完成,下載網址: https://stickershop.line-scdn.net/sticonshop/v1/sticon/62f0eb2483603436e7d16179/iPhone/039_animation.png\n",
      "動圖id:040 已下載完成,下載網址: https://stickershop.line-scdn.net/sticonshop/v1/sticon/62f0eb2483603436e7d16179/iPhone/040_animation.png\n"
     ]
    }
   ],
   "source": [
    "import requests as req\n",
    "import os,json\n",
    "from bs4 import BeautifulSoup as bs\n",
    "from fake_useragent import UserAgent\n",
    "ua = UserAgent(cache=True)\n",
    "url=\"https://store.line.me/emojishop/product/62f0eb2483603436e7d16179/zh-Hant\"\n",
    "\n",
    "res= req.get(url , headers={\"user-agent\":ua.random})\n",
    "soup=bs(res.text,\"lxml\")\n",
    "\n",
    "folderPath=\"我不是胖虎-動態表情貼\"\n",
    "if os.path.exists(folderPath)== False:\n",
    "    os.makedirs(folderPath)\n",
    "\n",
    "listLineStickers=[]\n",
    "listElement=soup.select(\"ul.mdCMN09Ul.FnEmoji_animation_list_img li.mdCMN09Li.FnStickerPreviewItem\")\n",
    "\n",
    "for li in listElement:\n",
    "    strJson=li[\"data-preview\"]\n",
    "    obj=json.loads(strJson)\n",
    "    listLineStickers.append(obj)\n",
    "\n",
    "for obj in listLineStickers:\n",
    "    os.system(f'curl {obj[\"animationUrl\"]} -o {folderPath}/{obj[\"id\"]}.gif')\n",
    "    print(f'動圖id:{obj[\"id\"]} 已下載完成,下載網址: {obj[\"animationUrl\"]}')"
   ]
  }
 ],
 "metadata": {
  "kernelspec": {
   "display_name": "Python 3 (ipykernel)",
   "language": "python",
   "name": "python3"
  },
  "language_info": {
   "codemirror_mode": {
    "name": "ipython",
    "version": 3
   },
   "file_extension": ".py",
   "mimetype": "text/x-python",
   "name": "python",
   "nbconvert_exporter": "python",
   "pygments_lexer": "ipython3",
   "version": "3.9.13"
  }
 },
 "nbformat": 4,
 "nbformat_minor": 5
}
